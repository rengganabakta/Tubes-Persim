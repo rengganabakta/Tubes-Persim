{
 "cells": [
  {
   "cell_type": "markdown",
   "metadata": {},
   "source": [
    "## Tubes Permodelan dan Simulasi\n",
    "\n",
    "#### Nama Kelompok :\n",
    "1. I Gede Arengga Nabakta   (1203220108)\n",
    "2. Mahendra Pratama H.P.    (1203222078)\n",
    "3. Daniswara Aryasatya F.F. (1203220066)\n",
    "\n",
    "### Simulasi Monte Carlo untuk Memprediksi Persediaan Darah"
   ]
  },
  {
   "cell_type": "markdown",
   "metadata": {},
   "source": [
    "Teknik pengolahan dengan simulasi  Monte Carlo \n",
    "untuk memprediksi persediaan  dilakukan dengan \n",
    "mempresentasikan masalah kedalam basis pengetahuan \n",
    "(knowledge base) dengan langkah langkah sebagai \n",
    "berikut: \n",
    "\n",
    "1. Membuat distribusi dari probabilitas;\n",
    "2. Menghitung distribusi kemungkinan komulatif;\n",
    "3. Membuat interval bilangan acak;\n",
    "4. Melakukan simulasi dengan bilangan acak;\n",
    "5. Menganalisa simulasi dari rangkaian percobaan."
   ]
  },
  {
   "cell_type": "markdown",
   "metadata": {},
   "source": [
    "### Hasil dan Pembahasan"
   ]
  },
  {
   "cell_type": "markdown",
   "metadata": {},
   "source": [
    "Data  persedian  darah  pada  tahun  2016  akan  digunakan \n",
    "untuk  mempredksi  jumlah  persediaan    darah    di  tahun \n",
    "2017, dan data stok darah di tahun 2016 akan digunakan untuk memprediksi jumlah persediaan darah \n",
    "5 bulan pertama di tahun 2018.  "
   ]
  },
  {
   "cell_type": "code",
   "execution_count": 24,
   "metadata": {},
   "outputs": [
    {
     "name": "stdout",
     "output_type": "stream",
     "text": [
      "      bulan  sukarela  Penganti  APHERESIS  total\n",
      "0   JANUARI      9425        60         89   9574\n",
      "1  FEBRUARI     12002        13         49  12064\n",
      "2     MARET     11827        31         69  11927\n",
      "3     APRIL     10853        18         62  10933\n",
      "4       MEI     12479        43         89  12611\n"
     ]
    }
   ],
   "source": [
    "import pandas as pd\n",
    "df = pd.read_csv(\"./data/ketersediaan2016.csv\")\n",
    "print(df.head())"
   ]
  },
  {
   "cell_type": "code",
   "execution_count": 38,
   "metadata": {},
   "outputs": [
    {
     "name": "stdout",
     "output_type": "stream",
     "text": [
      "        bulan  total\n",
      "0     JANUARI   9574\n",
      "1    FEBRUARI  12064\n",
      "2       MARET  11927\n",
      "3       APRIL  10933\n",
      "4         MEI  12611\n",
      "5        JUNI   6822\n",
      "6        JULI  10826\n",
      "7     AGUSTUS  13214\n",
      "8   SEPTEMBER   9896\n",
      "9     OKTOBER  11405\n",
      "10   NOVEMBER  11686\n",
      "11   DESEMBER   9058\n"
     ]
    }
   ],
   "source": [
    "# Membaca file CSV hanya dengan kolom \"bulan\" dan \"total\"\n",
    "df = pd.read_csv(\"./data/ketersediaan2016.csv\", usecols=['bulan', 'total'])\n",
    "\n",
    "# Menampilkan DataFrame\n",
    "print(df)"
   ]
  },
  {
   "cell_type": "markdown",
   "metadata": {},
   "source": [
    "Langkah pertama yaitu  menentukan distribusi probabilitas dari variabel menggunakan rumus : \n",
    "\n",
    "#### A = M / I\n",
    "\n",
    "A = Probabilitas,\n",
    "M = Frekuensi,\n",
    "I = Jumlah\n"
   ]
  },
  {
   "cell_type": "code",
   "execution_count": 41,
   "metadata": {},
   "outputs": [
    {
     "name": "stdout",
     "output_type": "stream",
     "text": [
      "0     0.073637\n",
      "1     0.092789\n",
      "2     0.091735\n",
      "3     0.084090\n",
      "4     0.096996\n",
      "5     0.052470\n",
      "6     0.083267\n",
      "7     0.101634\n",
      "8     0.076114\n",
      "9     0.087720\n",
      "10    0.089881\n",
      "11    0.069668\n",
      "Name: total, dtype: float64\n"
     ]
    }
   ],
   "source": [
    "total_nilai16 = df['total'].sum()\n",
    "\n",
    "tahun16 = df['total'] / total_nilai16\n",
    "print(tahun16)"
   ]
  }
 ],
 "metadata": {
  "kernelspec": {
   "display_name": "Python 3",
   "language": "python",
   "name": "python3"
  },
  "language_info": {
   "codemirror_mode": {
    "name": "ipython",
    "version": 3
   },
   "file_extension": ".py",
   "mimetype": "text/x-python",
   "name": "python",
   "nbconvert_exporter": "python",
   "pygments_lexer": "ipython3",
   "version": "3.12.0"
  }
 },
 "nbformat": 4,
 "nbformat_minor": 2
}
