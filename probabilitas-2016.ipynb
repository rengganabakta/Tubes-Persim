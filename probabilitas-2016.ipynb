{
 "cells": [
  {
   "cell_type": "markdown",
   "metadata": {},
   "source": [
    "## Tubes Permodelan dan Simulasi\n",
    "\n",
    "#### Nama Kelompok :\n",
    "1. I Gede Arengga Nabakta   (1203220108)\n",
    "2. Mahendra Pratama H.P.    (1203222078)\n",
    "3. Daniswara Aryasatya F.F. (1203220066)\n",
    "\n",
    "### Simulasi Monte Carlo untuk Memprediksi Persediaan Darah"
   ]
  },
  {
   "cell_type": "markdown",
   "metadata": {},
   "source": [
    "Teknik pengolahan dengan simulasi  Monte Carlo \n",
    "untuk memprediksi persediaan  dilakukan dengan \n",
    "mempresentasikan masalah kedalam basis pengetahuan \n",
    "(knowledge base) dengan langkah langkah sebagai \n",
    "berikut: \n",
    "\n",
    "1. Membuat distribusi dari probabilitas;\n",
    "2. Menghitung distribusi kemungkinan komulatif;\n",
    "3. Membuat interval bilangan acak;\n",
    "4. Melakukan simulasi dengan bilangan acak;\n",
    "5. Menganalisa simulasi dari rangkaian percobaan."
   ]
  },
  {
   "cell_type": "markdown",
   "metadata": {},
   "source": [
    "### Hasil dan Pembahasan"
   ]
  },
  {
   "cell_type": "markdown",
   "metadata": {},
   "source": [
    "Data  persedian  darah  pada  tahun  2016  akan  digunakan \n",
    "untuk  mempredksi  jumlah  persediaan    darah    di  tahun \n",
    "2017, dan data stok darah di tahun 2016 akan digunakan untuk memprediksi jumlah persediaan darah \n",
    "5 bulan pertama di tahun 2018.  "
   ]
  },
  {
   "cell_type": "code",
   "execution_count": null,
   "metadata": {},
   "outputs": [],
   "source": [
    "import pandas as pd\n",
    "ketersediaan_2016 = pd.read_csv(\"./data/ketersediaan2016.csv\")\n",
    "ketersediaan_2017= pd.read_csv(\"./data/ketersediaan2017.csv\")\n",
    "permintaan_2016= pd.read_csv(\"./data/permintaan2016.csv\")\n",
    "permintaan_2017= pd.read_csv(\"./data/permintaan2017.csv\")"
   ]
  },
  {
   "cell_type": "code",
   "execution_count": null,
   "metadata": {},
   "outputs": [],
   "source": [
    "# Membaca file CSV hanya dengan kolom \"bulan\" dan \"total\"\n",
    "data_permintaan_2016 = pd.read_csv(\"./data/ketersediaan2016.csv\", usecols=['bulan', 'total'])\n",
    "data_permintaan_2017 = pd.read_csv(\"./data/ketersediaan2017.csv\", usecols=['bulan', 'total'])"
   ]
  },
  {
   "cell_type": "markdown",
   "metadata": {},
   "source": [
    "Langkah pertama yaitu  menentukan distribusi probabilitas dari variabel menggunakan rumus : \n",
    "\n",
    "#### A = M / I\n",
    "\n",
    "A = Probabilitas,\n",
    "M = Frekuensi,\n",
    "I = Jumlah\n"
   ]
  },
  {
   "cell_type": "code",
   "execution_count": null,
   "metadata": {},
   "outputs": [],
   "source": [
    "total_nilai_permintaan_2016 = data_permintaan_2016['total'].sum()\n",
    "total_nilai_permintaan_2017 = data_permintaan_2017['total'].sum()\n",
    "\n",
    "probabilitas_2016 = data_permintaan_2016['total'] / total_nilai_permintaan_2016\n",
    "probabilitas_2017 = data_permintaan_2017['total'] / total_nilai_permintaan_2017\n",
    "\n",
    "print(probabilitas_2016)\n",
    "print(probabilitas_2017)\n"
   ]
  },
  {
   "cell_type": "markdown",
   "metadata": {},
   "source": [
    "Menetapkan Distribusi Probabilitas Komulatif Nilai probabilitas komulatif didapatkan dari \n",
    "perhitungan  hasil    nilai  distribusi  probabilitas  dengan \n",
    "jumlah nilai distribusi probabilitas sebelumnya."
   ]
  },
  {
   "cell_type": "code",
   "execution_count": null,
   "metadata": {},
   "outputs": [],
   "source": [
    "# Initialize the cumulative distribution arrays\n",
    "distribusi_probabilitas_2016 = [0] * 12\n",
    "distribusi_probabilitas_2017 = [0] * 12\n",
    "\n",
    "# Initialize the cumulative sum variables\n",
    "distribusi_2016 = 0\n",
    "distribusi_2017 = 0\n",
    "\n",
    "# Accumulate the probabilities and store in cumulative distribution arrays\n",
    "for i in range(12):\n",
    "    distribusi_2016 += probabilitas_2016[i]\n",
    "    distribusi_2017 += probabilitas_2017[i]\n",
    "    distribusi_probabilitas_2016[i] = distribusi_2016\n",
    "    distribusi_probabilitas_2017[i] = distribusi_2017\n",
    "\n",
    "# Print the cumulative distributions\n",
    "print(\"Distribusi Probabilitas 2016:\", distribusi_probabilitas_2016)\n",
    "print(\"Distribusi Probabilitas 2017:\", distribusi_probabilitas_2017)"
   ]
  },
  {
   "cell_type": "markdown",
   "metadata": {},
   "source": [
    "Nilai bisa di cek didengan code dibawah"
   ]
  },
  {
   "cell_type": "code",
   "execution_count": null,
   "metadata": {},
   "outputs": [],
   "source": [
    "for i in range(12):\n",
    "    print(distribusi_probabilitas_2016[i])"
   ]
  },
  {
   "cell_type": "code",
   "execution_count": null,
   "metadata": {},
   "outputs": [],
   "source": [
    "for i in range(12):\n",
    "    print(distribusi_probabilitas_2017[i])"
   ]
  },
  {
   "cell_type": "markdown",
   "metadata": {},
   "source": [
    "Menetapkan Interval Angka Random (Angka Acak)"
   ]
  },
  {
   "cell_type": "code",
   "execution_count": null,
   "metadata": {},
   "outputs": [],
   "source": []
  }
 ],
 "metadata": {
  "kernelspec": {
   "display_name": "Python 3",
   "language": "python",
   "name": "python3"
  },
  "language_info": {
   "codemirror_mode": {
    "name": "ipython",
    "version": 3
   },
   "file_extension": ".py",
   "mimetype": "text/x-python",
   "name": "python",
   "nbconvert_exporter": "python",
   "pygments_lexer": "ipython3",
   "version": "3.12.0"
  }
 },
 "nbformat": 4,
 "nbformat_minor": 2
}
