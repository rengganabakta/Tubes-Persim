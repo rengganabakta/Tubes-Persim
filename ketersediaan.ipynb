{
 "cells": [
  {
   "cell_type": "markdown",
   "metadata": {},
   "source": [
    "## Tubes Permodelan dan Simulasi\n",
    "\n",
    "#### Nama Kelompok :\n",
    "1. I Gede Arengga Nabakta   (1203220108)\n",
    "2. Mahendra Pratama H.P.    (1203222078)\n",
    "3. Daniswara Aryasatya F.F. (1203220066)\n",
    "\n",
    "### Simulasi Monte Carlo untuk Memprediksi Ketersediaan Darah pada tahun 2017"
   ]
  },
  {
   "cell_type": "markdown",
   "metadata": {},
   "source": [
    "Teknik pengolahan dengan simulasi  Monte Carlo \n",
    "untuk memprediksi persediaan  dilakukan dengan \n",
    "mempresentasikan masalah kedalam basis pengetahuan \n",
    "(knowledge base) dengan langkah langkah sebagai \n",
    "berikut: \n",
    "\n",
    "1. Membuat distribusi dari probabilitas;\n",
    "2. Menghitung distribusi kemungkinan komulatif;\n",
    "3. Membuat interval bilangan acak;\n",
    "4. Melakukan simulasi dengan bilangan acak;\n",
    "5. Menganalisa simulasi dari rangkaian percobaan."
   ]
  },
  {
   "cell_type": "markdown",
   "metadata": {},
   "source": [
    "### Hasil dan Pembahasan"
   ]
  },
  {
   "cell_type": "markdown",
   "metadata": {},
   "source": [
    "Data ketersediaan darah pada tahun 2016 akan digunakan untuk mempredksi jumlah ketersediaandarah di tahun 2017."
   ]
  },
  {
   "cell_type": "markdown",
   "metadata": {},
   "source": [
    "#### langkah pertama adalah install pint dan import modsim"
   ]
  },
  {
   "cell_type": "code",
   "execution_count": 1,
   "metadata": {},
   "outputs": [],
   "source": [
    "# install Pint if necessary\n",
    "\n",
    "try:\n",
    "    import pint\n",
    "except ImportError:\n",
    "    !pip install pint"
   ]
  },
  {
   "cell_type": "code",
   "execution_count": 2,
   "metadata": {},
   "outputs": [],
   "source": [
    "# download modsim.py if necessary\n",
    "\n",
    "from os.path import basename, exists\n",
    "\n",
    "def download(url):\n",
    "    filename = basename(url)\n",
    "    if not exists(filename):\n",
    "        from urllib.request import urlretrieve\n",
    "        local, _ = urlretrieve(url, filename)\n",
    "        print('Downloaded ' + local)\n",
    "    \n",
    "download('https://raw.githubusercontent.com/AllenDowney/' +\n",
    "         'ModSimPy/master/modsim.py')"
   ]
  },
  {
   "cell_type": "code",
   "execution_count": 3,
   "metadata": {},
   "outputs": [],
   "source": [
    "import pandas as pd\n",
    "import numpy as np\n",
    "from modsim import *"
   ]
  },
  {
   "cell_type": "markdown",
   "metadata": {},
   "source": [
    "#### Langkah kedua adalah memasukan data tiap bulan <br>\n",
    "data disimpan menggunakan object `State`"
   ]
  },
  {
   "cell_type": "code",
   "execution_count": 4,
   "metadata": {},
   "outputs": [
    {
     "data": {
      "text/plain": [
       "januari       9574\n",
       "februari     12064\n",
       "maret        11927\n",
       "april        10933\n",
       "mei          12611\n",
       "juni          6822\n",
       "juli         10826\n",
       "agustus      13214\n",
       "september     9896\n",
       "oktober      11405\n",
       "november     11686\n",
       "desember      9058\n",
       "Name: state, dtype: int64"
      ]
     },
     "execution_count": 4,
     "metadata": {},
     "output_type": "execute_result"
    }
   ],
   "source": [
    "data_ketersediaan_2016 = State(januari=9574, februari=12064, maret=11927, april=10933, mei=12611, juni=6822, juli=10826, agustus=13214, september=9896, oktober=11405, november=11686, desember=9058)\n",
    "data_ketersediaan_2017 = State(januari=10194, februari=11218, maret=11496, april=10254, mei=9938, juni=5917, juli=12057, agustus=11422, september=9709, oktober=11417, november=9044, desember=9379)\n",
    "\n",
    "data_ketersediaan_2016"
   ]
  },
  {
   "cell_type": "markdown",
   "metadata": {},
   "source": [
    "#### Probabilitas tiap bulan \n",
    "Langkah pertama yaitu  menentukan distribusi probabilitas dari variabel menggunakan rumus : <br>\n",
    "\n",
    "`A = M / I`<br>\n",
    "\n",
    "A = Probabilitas,<br>\n",
    "M = Frekuensi,<br>\n",
    "I = Jumlah<br>\n"
   ]
  },
  {
   "cell_type": "code",
   "execution_count": 5,
   "metadata": {},
   "outputs": [
    {
     "data": {
      "text/plain": [
       "januari      0.073637\n",
       "februari     0.092789\n",
       "maret        0.091735\n",
       "april        0.084090\n",
       "mei          0.096996\n",
       "juni         0.052470\n",
       "juli         0.083267\n",
       "agustus      0.101634\n",
       "september    0.076114\n",
       "oktober      0.087720\n",
       "november     0.089881\n",
       "desember     0.069668\n",
       "Name: state, dtype: float64"
      ]
     },
     "execution_count": 5,
     "metadata": {},
     "output_type": "execute_result"
    }
   ],
   "source": [
    "total_per_bulan = data_ketersediaan_2016.sum()\n",
    "\n",
    "probalitas = data_ketersediaan_2016 / total_per_bulan\n",
    "\n",
    "probalitas"
   ]
  },
  {
   "cell_type": "code",
   "execution_count": 6,
   "metadata": {},
   "outputs": [
    {
     "data": {
      "text/plain": [
       "Text(0.5, 1.0, 'Probabilitas Ketersediaan Per Bulan 2016')"
      ]
     },
     "execution_count": 6,
     "metadata": {},
     "output_type": "execute_result"
    },
    {
     "data": {
      "image/png": "[encoded data removed]",
      "text/plain": [
       "<Figure size 450x300 with 1 Axes>"
      ]
     },
     "metadata": {},
     "output_type": "display_data"
    }
   ],
   "source": [
    "#membuat series dari data\n",
    "probabilitas_series = pd.Series(probalitas)\n",
    "\n",
    "#Plotting\n",
    "fig, ax = plt.subplots()\n",
    "probabilitas_series.plot(kind='bar', ax=ax)\n",
    "ax.set_xlabel('Bulan')\n",
    "ax.set_ylabel('Probabilitas')\n",
    "ax.set_title('Probabilitas Ketersediaan Per Bulan 2016')\n",
    "\n"
   ]
  },
  {
   "cell_type": "markdown",
   "metadata": {},
   "source": [
    "Menetapkan Distribusi Probabilitas Komulatif Nilai probabilitas komulatif didapatkan dari perhitungan  hasil    nilai  distribusi  probabilitas  dengan jumlah nilai distribusi probabilitas sebelumnya.<br>\n",
    "\n",
    "diberikan juga object system yang memiliki variable seperti \n",
    "<ul>\n",
    "    <li>bulan\n",
    "    <li>distribusi probabilitas\n",
    "    <li>distribusi nilai acak\n",
    "    <li>batas atas distribusi\n",
    "    <li>batas bawah distribusi\n",
    "    <li>pembangkit nilai acakwd\n",
    "    <li>hasil\n",
    "<ul>\n"
   ]
  },
  {
   "cell_type": "code",
   "execution_count": 7,
   "metadata": {},
   "outputs": [
    {
     "name": "stdout",
     "output_type": "stream",
     "text": [
      "Distribusi Probabilitas Kumulatif 2016: [0.07363709081959144, 0.16642567068668473, 0.25816053408811224, 0.34225018459266554, 0.4392459389613586, 0.4917164041348757, 0.5749830790056608, 0.6766167240954959, 0.752730433177455, 0.8404504061038641, 0.9303316514890475, 1.0]\n"
     ]
    },
    {
     "data": {
      "image/png": "[encoded data removed]",
      "text/plain": [
       "<Figure size 450x300 with 1 Axes>"
      ]
     },
     "metadata": {},
     "output_type": "display_data"
    }
   ],
   "source": [
    "system = System(\n",
    "    bulan=['januari', 'februari', 'maret', 'april', 'mei', 'juni', 'juli', 'agustus', 'september', 'oktober', 'november', 'desember'],\n",
    "    distribusi_probabilitas_kumulatif=[0] * 12,\n",
    "    distribusi_100=[0] * 12,\n",
    "    batas_bawah=[0] * 12,\n",
    "    batas_atas=[0] * 12,\n",
    "    random_numbers=[] * 12,\n",
    "    hasil=[] * 12\n",
    ")\n",
    "\n",
    "distribusi_kumulatif = 0\n",
    "for i, month in enumerate(system.bulan):\n",
    "    distribusi_kumulatif += probabilitas_series[month]\n",
    "    system.distribusi_probabilitas_kumulatif[i] = distribusi_kumulatif\n",
    "\n",
    "print(\"Distribusi Probabilitas Kumulatif 2016:\", system.distribusi_probabilitas_kumulatif)\n",
    "\n",
    "# Membuat DataFrame untuk keperluan plotting\n",
    "df = pd.DataFrame({\n",
    "    'Bulan': system.bulan,\n",
    "    'Distribusi Probabilitas Kumulatif': system.distribusi_probabilitas_kumulatif\n",
    "})\n",
    "\n",
    "# Plotting\n",
    "fig, ax = plt.subplots()\n",
    "df.set_index('Bulan').plot(kind='bar', ax=ax)\n",
    "\n",
    "# Menambahkan label dan judul\n",
    "ax.set_xlabel('Bulan')\n",
    "ax.set_ylabel('Distribusi Probabilitas Kumulatif')\n",
    "ax.set_title('Distribusi Probabilitas Kumulatif Per Bulan 2016')\n",
    "\n",
    "# Menampilkan plot\n",
    "plt.show()"
   ]
  },
  {
   "cell_type": "markdown",
   "metadata": {},
   "source": [
    "#### Menetapkan Interval Angka Random (Angka Acak)"
   ]
  },
  {
   "cell_type": "code",
   "execution_count": 8,
   "metadata": {},
   "outputs": [
    {
     "name": "stdout",
     "output_type": "stream",
     "text": [
      "Bulan Januari: Batas Bawah = 0, Batas Atas = 7\n",
      "Bulan Februari: Batas Bawah = 8, Batas Atas = 16\n",
      "Bulan Maret: Batas Bawah = 17, Batas Atas = 25\n",
      "Bulan April: Batas Bawah = 26, Batas Atas = 34\n",
      "Bulan Mei: Batas Bawah = 35, Batas Atas = 43\n",
      "Bulan Juni: Batas Bawah = 44, Batas Atas = 49\n",
      "Bulan Juli: Batas Bawah = 50, Batas Atas = 57\n",
      "Bulan Agustus: Batas Bawah = 58, Batas Atas = 67\n",
      "Bulan September: Batas Bawah = 68, Batas Atas = 75\n",
      "Bulan Oktober: Batas Bawah = 76, Batas Atas = 84\n",
      "Bulan November: Batas Bawah = 85, Batas Atas = 93\n",
      "Bulan Desember: Batas Bawah = 94, Batas Atas = 100\n"
     ]
    }
   ],
   "source": [
    "# Mengonversi distribusi kumulatif ke rentang 0-100\n",
    "for i in range(12):\n",
    "    system.distribusi_100[i] = int(system.distribusi_probabilitas_kumulatif[i] * 100)\n",
    "\n",
    "# Menghitung batas bawah dan batas atas\n",
    "system.batas_bawah[0] = 0\n",
    "system.batas_atas[0] = system.distribusi_100[0]\n",
    "\n",
    "for i in range(1, 12):\n",
    "    system.batas_bawah[i] = system.distribusi_100[i - 1] + 1\n",
    "    system.batas_atas[i] = system.distribusi_100[i]\n",
    "\n",
    "# Menampilkan hasil\n",
    "for i, month in enumerate(system.bulan):\n",
    "    print(f\"Bulan {month.capitalize()}: Batas Bawah = {system.batas_bawah[i]}, Batas Atas = {system.batas_atas[i]}\")\n"
   ]
  },
  {
   "cell_type": "markdown",
   "metadata": {},
   "source": [
    "#### Membangkitkan Angka Acak\n",
    "\n",
    "Membangkitkan angka acak untuk data persediaan \n",
    "darah  tahun 2017 yang dibuat berdasarkan rumus :  \n",
    " `Ri = (dRi-1 + O) mod m`"
   ]
  },
  {
   "cell_type": "code",
   "execution_count": 9,
   "metadata": {},
   "outputs": [
    {
     "name": "stdout",
     "output_type": "stream",
     "text": [
      "Nilai-nilai acak 1 tahun: [6, 43, 30, 64, 36, 94, 87, 52, 75, 91, 72, 76]\n"
     ]
    }
   ],
   "source": [
    "def generate_random_numbers(system):\n",
    "    system.random_numbers = [system.seed]\n",
    "    for i in range(1, system.n):\n",
    "        new_random_number = (system.d * system.random_numbers[-1] + system.o) % system.m\n",
    "        system.random_numbers.append(new_random_number)\n",
    "    return system.random_numbers\n",
    "\n",
    "seeders = System(\n",
    "    seed=6,  # Nilai awal R\n",
    "    d=5,     # Konstanta d\n",
    "    o=13,    # Konstanta O\n",
    "    m=99,    # Konstanta m\n",
    "    n=12     # Jumlah nilai acak\n",
    ")\n",
    "\n",
    "random_numbers = generate_random_numbers(seeders)\n",
    "print(\"Nilai-nilai acak 1 tahun:\", random_numbers)"
   ]
  },
  {
   "cell_type": "code",
   "execution_count": 10,
   "metadata": {},
   "outputs": [
    {
     "name": "stdout",
     "output_type": "stream",
     "text": [
      "januari \t: 9574\n",
      "februari \t: 12611\n",
      "maret \t: 10933\n",
      "april \t: 13214\n",
      "mei \t: 12611\n",
      "juni \t: 9058\n",
      "juli \t: 11686\n",
      "agustus \t: 10826\n",
      "september \t: 9896\n",
      "oktober \t: 11686\n",
      "november \t: 9896\n",
      "desember \t: 11405\n"
     ]
    },
    {
     "name": "stderr",
     "output_type": "stream",
     "text": [
      "C:\\Users\\areng\\AppData\\Local\\Temp\\ipykernel_19340\\3627156335.py:7: FutureWarning: Series.__getitem__ treating keys as positions is deprecated. In a future version, integer keys will always be treated as labels (consistent with DataFrame behavior). To access a value by position, use `ser.iloc[pos]`\n",
      "  return data_ketersediaan_2016[count]\n"
     ]
    }
   ],
   "source": [
    "hasil = [None] * 12\n",
    "\n",
    "def calculate(number):\n",
    "    count = 0\n",
    "    while number > system.batas_atas[count]:\n",
    "        count +=1\n",
    "    return data_ketersediaan_2016[count]\n",
    "    \n",
    "for i in range(12):\n",
    "    hasil[i] = calculate(random_numbers[i])\n",
    "    print(system.bulan[i],\"\\t:\", hasil[i])\n",
    "    \n",
    "system.hasil = hasil\n",
    "    "
   ]
  },
  {
   "cell_type": "markdown",
   "metadata": {},
   "source": [
    "#### Perbandingan dan Akurasi\n",
    "\n",
    "mencari nilai akurasi dengan metode mape"
   ]
  },
  {
   "cell_type": "code",
   "execution_count": 11,
   "metadata": {},
   "outputs": [
    {
     "name": "stdout",
     "output_type": "stream",
     "text": [
      "januari :\n",
      " \tprediksi : 9574, \n",
      " \tdata asli : 10194, \n",
      " \tTingkat akurasi : 93.92%\n",
      "februari :\n",
      " \tprediksi : 12611, \n",
      " \tdata asli : 11218, \n",
      " \tTingkat akurasi : 87.58%\n",
      "maret :\n",
      " \tprediksi : 10933, \n",
      " \tdata asli : 11496, \n",
      " \tTingkat akurasi : 95.10%\n",
      "april :\n",
      " \tprediksi : 13214, \n",
      " \tdata asli : 10254, \n",
      " \tTingkat akurasi : 71.13%\n",
      "mei :\n",
      " \tprediksi : 12611, \n",
      " \tdata asli : 9938, \n",
      " \tTingkat akurasi : 73.10%\n",
      "juni :\n",
      " \tprediksi : 9058, \n",
      " \tdata asli : 5917, \n",
      " \tTingkat akurasi : 46.92%\n",
      "juli :\n",
      " \tprediksi : 11686, \n",
      " \tdata asli : 12057, \n",
      " \tTingkat akurasi : 96.92%\n",
      "agustus :\n",
      " \tprediksi : 10826, \n",
      " \tdata asli : 11422, \n",
      " \tTingkat akurasi : 94.78%\n",
      "september :\n",
      " \tprediksi : 9896, \n",
      " \tdata asli : 9709, \n",
      " \tTingkat akurasi : 98.07%\n",
      "oktober :\n",
      " \tprediksi : 11686, \n",
      " \tdata asli : 11417, \n",
      " \tTingkat akurasi : 97.64%\n",
      "november :\n",
      " \tprediksi : 9896, \n",
      " \tdata asli : 9044, \n",
      " \tTingkat akurasi : 90.58%\n",
      "desember :\n",
      " \tprediksi : 11405, \n",
      " \tdata asli : 9379, \n",
      " \tTingkat akurasi : 78.40%\n"
     ]
    },
    {
     "name": "stderr",
     "output_type": "stream",
     "text": [
      "C:\\Users\\areng\\AppData\\Local\\Temp\\ipykernel_19340\\1213835653.py:8: FutureWarning: Series.__getitem__ treating keys as positions is deprecated. In a future version, integer keys will always be treated as labels (consistent with DataFrame behavior). To access a value by position, use `ser.iloc[pos]`\n",
      "  mape = abs((data_asli[i] - data_simulasi[i]) / data_asli[i])\n",
      "C:\\Users\\areng\\AppData\\Local\\Temp\\ipykernel_19340\\1213835653.py:16: FutureWarning: Series.__getitem__ treating keys as positions is deprecated. In a future version, integer keys will always be treated as labels (consistent with DataFrame behavior). To access a value by position, use `ser.iloc[pos]`\n",
      "  print(f\"{system.bulan[i]} :\\n \\tprediksi : {data_simulasi[i]}, \\n \\tdata asli : {data_asli[i]}, \\n \\tTingkat akurasi : {acc:.2f}%\")\n"
     ]
    }
   ],
   "source": [
    "data_asli = data_ketersediaan_2017\n",
    "data_simulasi = system.hasil\n",
    "\n",
    "# Fungsi untuk menghitung akurasi untuk setiap data\n",
    "def calculate_accuracy(data_asli, data_simulasi):\n",
    "    accuracies = []\n",
    "    for i in range(len(data_asli)):\n",
    "        mape = abs((data_asli[i] - data_simulasi[i]) / data_asli[i])\n",
    "        accuracy = 100 - (mape * 100)\n",
    "        accuracies.append(accuracy)\n",
    "    return accuracies\n",
    "\n",
    "accuracies = calculate_accuracy(data_asli, data_simulasi)\n",
    "\n",
    "for i, acc in enumerate(accuracies):\n",
    "    print(f\"{system.bulan[i]} :\\n \\tprediksi : {data_simulasi[i]}, \\n \\tdata asli : {data_asli[i]}, \\n \\tTingkat akurasi : {acc:.2f}%\")    \n",
    "\n",
    "\n"
   ]
  },
  {
   "cell_type": "markdown",
   "metadata": {},
   "source": [
    "akurasi keseluruhan"
   ]
  },
  {
   "cell_type": "code",
   "execution_count": 12,
   "metadata": {},
   "outputs": [
    {
     "name": "stdout",
     "output_type": "stream",
     "text": [
      "Mean Absolute Percentage Error (MAPE): 14.65%\n",
      "Persentase Akurasi: 85.35%\n"
     ]
    },
    {
     "name": "stderr",
     "output_type": "stream",
     "text": [
      "C:\\Users\\areng\\AppData\\Local\\Temp\\ipykernel_19340\\1923740957.py:9: FutureWarning: Series.__getitem__ treating keys as positions is deprecated. In a future version, integer keys will always be treated as labels (consistent with DataFrame behavior). To access a value by position, use `ser.iloc[pos]`\n",
      "  mape += abs((data_asli[i] - data_simulasi[i]) / data_asli[i])\n"
     ]
    }
   ],
   "source": [
    "data_asli = data_ketersediaan_2017\n",
    "data_simulasi_ketersediaan = system.hasil\n",
    "\n",
    "# Fungsi untuk menghitung MAPE\n",
    "def calculate_mape(data_asli, data_simulasi):\n",
    "    n = len(data_asli)\n",
    "    mape = 0\n",
    "    for i in range(n):\n",
    "        mape += abs((data_asli[i] - data_simulasi[i]) / data_asli[i])\n",
    "    mape = (mape / n) * 100\n",
    "    return mape\n",
    "\n",
    "# Hitung MAPE\n",
    "mape = calculate_mape(data_asli, data_simulasi)\n",
    "print(f\"Mean Absolute Percentage Error (MAPE): {mape:.2f}%\")\n",
    "\n",
    "# Hitung akurasi\n",
    "akurasi = 100 - mape\n",
    "print(f\"Persentase Akurasi: {akurasi:.2f}%\")"
   ]
  },
  {
   "cell_type": "code",
   "execution_count": 14,
   "metadata": {},
   "outputs": [
    {
     "data": {
      "image/png": "[encoded data removed]",
      "text/plain": [
       "<Figure size 900x450 with 1 Axes>"
      ]
     },
     "metadata": {},
     "output_type": "display_data"
    }
   ],
   "source": [
    "# Create a TimeSeries for original and simulated data\n",
    "original_series = TimeSeries(data_asli, index=system.bulan)\n",
    "simulated_series = TimeSeries(data_simulasi, index=system.bulan)\n",
    "\n",
    "# Plot the data\n",
    "plt.figure(figsize=(12, 6))\n",
    "plt.plot(original_series, label='Data Asli', marker='o')\n",
    "plt.plot(simulated_series, label='Data Simulasi', marker='x')\n",
    "plt.xlabel('Bulan')\n",
    "plt.ylabel('Nilai')\n",
    "plt.title('Perbandingan Data Asli dan Data Simulasi')\n",
    "plt.legend()\n",
    "plt.grid(True)\n",
    "plt.show()"
   ]
  }
 ],
 "metadata": {
  "kernelspec": {
   "display_name": "Python 3",
   "language": "python",
   "name": "python3"
  },
  "language_info": {
   "codemirror_mode": {
    "name": "ipython",
    "version": 3
   },
   "file_extension": ".py",
   "mimetype": "text/x-python",
   "name": "python",
   "nbconvert_exporter": "python",
   "pygments_lexer": "ipython3",
   "version": "3.12.0"
  }
 },
 "nbformat": 4,
 "nbformat_minor": 2
}
