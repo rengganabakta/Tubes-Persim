{
 "cells": [
  {
   "cell_type": "markdown",
   "metadata": {},
   "source": [
    "## Tubes Permodelan dan Simulasi\n",
    "\n",
    "#### Nama Kelompok :\n",
    "1. I Gede Arengga Nabakta   (1203220108)\n",
    "2. Mahendra Pratama H.P.    (1203222078)\n",
    "3. Daniswara Aryasatya F.F. (1203220066)\n",
    "\n",
    "### Simulasi Monte Carlo untuk Memprediksi Persediaan Darah"
   ]
  },
  {
   "cell_type": "markdown",
   "metadata": {},
   "source": [
    "Teknik pengolahan dengan simulasi  Monte Carlo \n",
    "untuk memprediksi persediaan  dilakukan dengan \n",
    "mempresentasikan masalah kedalam basis pengetahuan \n",
    "(knowledge base) dengan langkah langkah sebagai \n",
    "berikut: \n",
    "\n",
    "1. Membuat distribusi dari probabilitas;\n",
    "2. Menghitung distribusi kemungkinan komulatif;\n",
    "3. Membuat interval bilangan acak;\n",
    "4. Melakukan simulasi dengan bilangan acak;\n",
    "5. Menganalisa simulasi dari rangkaian percobaan."
   ]
  },
  {
   "cell_type": "markdown",
   "metadata": {},
   "source": [
    "### Hasil dan Pembahasan"
   ]
  },
  {
   "cell_type": "markdown",
   "metadata": {},
   "source": [
    "Data  persedian  darah  pada  tahun  2018  akan  digunakan \n",
    "untuk  mempredksi  jumlah  persediaan    darah    di  tahun \n",
    "2019, dan data stok darah di tahun 2019 akan digunakan untuk memprediksi jumlah persediaan darah \n",
    "5 bulan pertama di tahun 2020.  "
   ]
  },
  {
   "cell_type": "code",
   "execution_count": null,
   "metadata": {},
   "outputs": [],
   "source": []
  }
 ],
 "metadata": {
  "kernelspec": {
   "display_name": "Python 3",
   "language": "python",
   "name": "python3"
  },
  "language_info": {
   "name": "python",
   "version": "3.12.0"
  }
 },
 "nbformat": 4,
 "nbformat_minor": 2
}
