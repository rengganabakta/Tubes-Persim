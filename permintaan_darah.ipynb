{
 "cells": [
  {
   "cell_type": "markdown",
   "metadata": {},
   "source": [
    "## Tubes Permodelan dan Simulasi\n",
    "\n",
    "#### Nama Kelompok :\n",
    "1. I Gede Arengga Nabakta   (1203220108)\n",
    "2. Mahendra Pratama H.P.    (1203222078)\n",
    "3. Daniswara Aryasatya F.F. (1203220066)\n",
    "\n",
    "### Simulasi Monte Carlo untuk Memprediksi Persediaan Darah"
   ]
  },
  {
   "cell_type": "markdown",
   "metadata": {},
   "source": [
    "Teknik pengolahan dengan simulasi  Monte Carlo \n",
    "untuk memprediksi persediaan  dilakukan dengan \n",
    "mempresentasikan masalah kedalam basis pengetahuan \n",
    "(knowledge base) dengan langkah langkah sebagai \n",
    "berikut: \n",
    "\n",
    "1. Membuat distribusi dari probabilitas;\n",
    "2. Menghitung distribusi kemungkinan komulatif;\n",
    "3. Membuat interval bilangan acak;\n",
    "4. Melakukan simulasi dengan bilangan acak;\n",
    "5. Menganalisa simulasi dari rangkaian percobaan."
   ]
  },
  {
   "cell_type": "markdown",
   "metadata": {},
   "source": [
    "### Hasil dan Pembahasan"
   ]
  },
  {
   "cell_type": "markdown",
   "metadata": {},
   "source": [
    "Data  persedian  darah  pada  tahun  2016  akan  digunakan \n",
    "untuk  mempredksi  jumlah  persediaan    darah    di  tahun \n",
    "2017, "
   ]
  },
  {
   "cell_type": "code",
   "execution_count": 31,
   "metadata": {},
   "outputs": [],
   "source": [
    "import pandas as pd\n",
    "import random\n",
    "ketersediaan_2016 = pd.read_csv(\"./data/permintaan2016.csv\")\n",
    "ketersediaan_2017 = pd.read_csv(\"./data/permintaan2017.csv\")"
   ]
  },
  {
   "cell_type": "code",
   "execution_count": 32,
   "metadata": {},
   "outputs": [
    {
     "name": "stdout",
     "output_type": "stream",
     "text": [
      "        bulan  total\n",
      "0     Januari  14251\n",
      "1    Februari  12542\n",
      "2       Maret  13852\n",
      "3       April  13414\n",
      "4         Mei  12674\n",
      "5        Juni  14903\n",
      "6        Juli  12450\n",
      "7     Agustus  13076\n",
      "8   September  12677\n",
      "9     Oktober  13554\n",
      "10   November  12779\n",
      "11   Desember  13722\n"
     ]
    }
   ],
   "source": [
    "# Membaca file CSV hanya dengan kolom \"bulan\" dan \"total\"\n",
    "data_permintaan_2016 = pd.read_csv(\"./data/permintaan2016.csv\", usecols=['bulan', 'total'])\n",
    "print(data_permintaan_2016)"
   ]
  },
  {
   "cell_type": "markdown",
   "metadata": {},
   "source": [
    "#### Distribusi Probabilitas Kumulatif \n",
    "Langkah pertama yaitu  menentukan distribusi probabilitas dari variabel menggunakan rumus : \n",
    "\n",
    "`A = M / I`\n",
    "\n",
    "A = Probabilitas,\n",
    "M = Frekuensi,\n",
    "I = Jumlah\n"
   ]
  },
  {
   "cell_type": "code",
   "execution_count": 33,
   "metadata": {},
   "outputs": [
    {
     "name": "stdout",
     "output_type": "stream",
     "text": [
      "0     0.089128\n",
      "1     0.078439\n",
      "2     0.086632\n",
      "3     0.083893\n",
      "4     0.079265\n",
      "5     0.093205\n",
      "6     0.077864\n",
      "7     0.081779\n",
      "8     0.079284\n",
      "9     0.084769\n",
      "10    0.079922\n",
      "11    0.085819\n",
      "Name: total, dtype: float64\n"
     ]
    }
   ],
   "source": [
    "total_nilai_permintaan_2016 = data_permintaan_2016['total'].sum()\n",
    "\n",
    "probabilitas_2016 = data_permintaan_2016['total'] / total_nilai_permintaan_2016\n",
    "\n",
    "print(probabilitas_2016)"
   ]
  },
  {
   "cell_type": "markdown",
   "metadata": {},
   "source": [
    "Menetapkan Distribusi Probabilitas Komulatif Nilai probabilitas komulatif didapatkan dari perhitungan hasil nilai  distribusi  probabilitas dengan jumlah nilai distribusi probabilitas sebelumnya."
   ]
  },
  {
   "cell_type": "code",
   "execution_count": 34,
   "metadata": {},
   "outputs": [
    {
     "name": "stdout",
     "output_type": "stream",
     "text": [
      "Distribusi Probabilitas 2016: [0.08912779716562222, 0.16756726331194416, 0.2541996572729433, 0.33809273643789006, 0.4173577495090497, 0.5105632481519006, 0.5884273331081841, 0.6702065118140768, 0.7494902873153464, 0.8342589465520908, 0.9141806446770986, 1.0]\n"
     ]
    }
   ],
   "source": [
    "\n",
    "distribusi_probabilitas_2016 = [0] * 12\n",
    "distribusi_2016 = 0\n",
    "\n",
    "for i in range(12):\n",
    "    distribusi_2016 += probabilitas_2016[i]\n",
    "    distribusi_probabilitas_2016[i] = distribusi_2016\n",
    "\n",
    "print(\"Distribusi Probabilitas 2016:\", distribusi_probabilitas_2016)"
   ]
  },
  {
   "cell_type": "markdown",
   "metadata": {},
   "source": [
    "Nilai bisa di cek dengan code dibawah"
   ]
  },
  {
   "cell_type": "code",
   "execution_count": 35,
   "metadata": {},
   "outputs": [
    {
     "name": "stdout",
     "output_type": "stream",
     "text": [
      "0.08912779716562222\n",
      "0.16756726331194416\n",
      "0.2541996572729433\n",
      "0.33809273643789006\n",
      "0.4173577495090497\n",
      "0.5105632481519006\n",
      "0.5884273331081841\n",
      "0.6702065118140768\n",
      "0.7494902873153464\n",
      "0.8342589465520908\n",
      "0.9141806446770986\n",
      "1.0\n"
     ]
    }
   ],
   "source": [
    "for i in range(12):\n",
    "    print(distribusi_probabilitas_2016[i])"
   ]
  },
  {
   "cell_type": "markdown",
   "metadata": {},
   "source": [
    "Menetapkan Interval Angka Random (Angka Acak)"
   ]
  },
  {
   "cell_type": "code",
   "execution_count": 36,
   "metadata": {},
   "outputs": [
    {
     "name": "stdout",
     "output_type": "stream",
     "text": [
      "Bulan 1: Batas Bawah = 0, Batas Atas = 8\n",
      "Bulan 2: Batas Bawah = 9, Batas Atas = 16\n",
      "Bulan 3: Batas Bawah = 17, Batas Atas = 25\n",
      "Bulan 4: Batas Bawah = 26, Batas Atas = 33\n",
      "Bulan 5: Batas Bawah = 34, Batas Atas = 41\n",
      "Bulan 6: Batas Bawah = 42, Batas Atas = 51\n",
      "Bulan 7: Batas Bawah = 52, Batas Atas = 58\n",
      "Bulan 8: Batas Bawah = 59, Batas Atas = 67\n",
      "Bulan 9: Batas Bawah = 68, Batas Atas = 74\n",
      "Bulan 10: Batas Bawah = 75, Batas Atas = 83\n",
      "Bulan 11: Batas Bawah = 84, Batas Atas = 91\n",
      "Bulan 12: Batas Bawah = 92, Batas Atas = 100\n"
     ]
    }
   ],
   "source": [
    "interval_2016 = [0] * 12\n",
    "batas_bawah = [0] * 12\n",
    "batas_atas = [0] * 12\n",
    "\n",
    "# Mengonversi distribusi kumulatif ke rentang 0-100\n",
    "distribusi_100 = [int(x * 100) for x in distribusi_probabilitas_2016]\n",
    "\n",
    "batas_bawah[0] = 0\n",
    "batas_atas[0] = distribusi_100[0]\n",
    "\n",
    "for i in range(1, 12):\n",
    "    batas_bawah[i] = distribusi_100[i - 1] + 1\n",
    "    batas_atas[i] = distribusi_100[i]\n",
    "\n",
    "for i in range(12):\n",
    "    print(f\"Bulan {i+1}: Batas Bawah = {batas_bawah[i]}, Batas Atas = {batas_atas[i]}\")\n"
   ]
  },
  {
   "cell_type": "markdown",
   "metadata": {},
   "source": [
    "#### Membangkitkan Angka Acak\n",
    "\n",
    "Membangkitkan angka acak untuk data permintaan \n",
    "darah tahun 2017 yang dibuat berdasarkan rumus :  \n",
    " `Ri = (dRi-1 + O) mod m`"
   ]
  },
  {
   "cell_type": "code",
   "execution_count": 37,
   "metadata": {},
   "outputs": [
    {
     "name": "stdout",
     "output_type": "stream",
     "text": [
      "Nilai-nilai acak 1 tahun: [6, 43, 30, 64, 36, 94, 87, 52, 75, 91, 72, 76]\n"
     ]
    }
   ],
   "source": [
    "def generate_random_numbers(seed, d, o, m, n):\n",
    "    random_numbers = [seed]\n",
    "    for i in range(1, n):\n",
    "        new_random_number = (d * random_numbers[-1] + o) % m\n",
    "        random_numbers.append(new_random_number)\n",
    "    return random_numbers\n",
    "\n",
    "seed_value = 6  # Nilai awal R\n",
    "d_value = 5     # Konstanta d\n",
    "o_value = 13     # Konstanta O\n",
    "m_value = 99   # Konstanta m\n",
    "jumlah_nilai_acak = 12\n",
    "\n",
    "random_numbers = generate_random_numbers(seed_value, d_value, o_value, m_value, jumlah_nilai_acak)\n",
    "print(\"Nilai-nilai acak 1 tahun:\", random_numbers)"
   ]
  },
  {
   "cell_type": "markdown",
   "metadata": {},
   "source": [
    "## Hasil Percobaan"
   ]
  },
  {
   "cell_type": "code",
   "execution_count": 38,
   "metadata": {},
   "outputs": [
    {
     "name": "stdout",
     "output_type": "stream",
     "text": [
      "Januari \t: 14251\n",
      "Februari \t: 14903\n",
      "Maret \t: 13414\n",
      "April \t: 13076\n",
      "Mei \t: 12674\n",
      "Juni \t: 13722\n",
      "Juli \t: 12779\n",
      "Agustus \t: 12450\n",
      "September \t: 13554\n",
      "Oktober \t: 12779\n",
      "November \t: 12677\n",
      "Desember \t: 13554\n"
     ]
    }
   ],
   "source": [
    "bulan = [\"Januari\", \"Februari\", \"Maret\", \"April\", \"Mei\", \"Juni\", \"Juli\", \"Agustus\", \"September\", \"Oktober\", \"November\", \"Desember\"]\n",
    "\n",
    "def calculate(number):\n",
    "    \n",
    "    count = 0\n",
    "    while number > batas_atas[count]:\n",
    "        count += 1\n",
    "    return data_permintaan_2016['total'][count]\n",
    "\n",
    "hasil = [None] * 24\n",
    "\n",
    "for i in range(12):\n",
    "    hasil[i] = calculate(random_numbers[i])\n",
    "    print(bulan[i],\"\\t:\", hasil[i])"
   ]
  },
  {
   "cell_type": "code",
   "execution_count": 39,
   "metadata": {},
   "outputs": [
    {
     "name": "stdout",
     "output_type": "stream",
     "text": [
      "0     14881\n",
      "1     12431\n",
      "2     12285\n",
      "3     14412\n",
      "4     13256\n",
      "5     10368\n",
      "6     13290\n",
      "7     13399\n",
      "8     12384\n",
      "9     13248\n",
      "10    12425\n",
      "11    13038\n",
      "Name: total, dtype: int64\n"
     ]
    }
   ],
   "source": [
    "permintaan_2017 = pd.read_csv(\"./data/permintaan2017.csv\")\n",
    "print(permintaan_2017['total'])"
   ]
  },
  {
   "cell_type": "code",
   "execution_count": 40,
   "metadata": {},
   "outputs": [
    {
     "name": "stdout",
     "output_type": "stream",
     "text": [
      "Januari :\n",
      " \tprediksi : 14251, \n",
      " \tdata asli : 14881, \n",
      " \tTingkat akurasi : 95.77%\n",
      "Februari :\n",
      " \tprediksi : 14903, \n",
      " \tdata asli : 12431, \n",
      " \tTingkat akurasi : 80.11%\n",
      "Maret :\n",
      " \tprediksi : 13414, \n",
      " \tdata asli : 12285, \n",
      " \tTingkat akurasi : 90.81%\n",
      "April :\n",
      " \tprediksi : 13076, \n",
      " \tdata asli : 14412, \n",
      " \tTingkat akurasi : 90.73%\n",
      "Mei :\n",
      " \tprediksi : 12674, \n",
      " \tdata asli : 13256, \n",
      " \tTingkat akurasi : 95.61%\n",
      "Juni :\n",
      " \tprediksi : 13722, \n",
      " \tdata asli : 10368, \n",
      " \tTingkat akurasi : 67.65%\n",
      "Juli :\n",
      " \tprediksi : 12779, \n",
      " \tdata asli : 13290, \n",
      " \tTingkat akurasi : 96.16%\n",
      "Agustus :\n",
      " \tprediksi : 12450, \n",
      " \tdata asli : 13399, \n",
      " \tTingkat akurasi : 92.92%\n",
      "September :\n",
      " \tprediksi : 13554, \n",
      " \tdata asli : 12384, \n",
      " \tTingkat akurasi : 90.55%\n",
      "Oktober :\n",
      " \tprediksi : 12779, \n",
      " \tdata asli : 13248, \n",
      " \tTingkat akurasi : 96.46%\n",
      "November :\n",
      " \tprediksi : 12677, \n",
      " \tdata asli : 12425, \n",
      " \tTingkat akurasi : 97.97%\n",
      "Desember :\n",
      " \tprediksi : 13554, \n",
      " \tdata asli : 13038, \n",
      " \tTingkat akurasi : 96.04%\n"
     ]
    }
   ],
   "source": [
    "data_asli = permintaan_2017['total']\n",
    "data_simulasi_permintaan = hasil\n",
    "\n",
    "# Fungsi untuk menghitung akurasi untuk setiap data\n",
    "def calculate_accuracy(data_asli, data_simulasi):\n",
    "    accuracies = []\n",
    "    for i in range(len(data_asli)):\n",
    "        mape = abs((data_asli[i] - data_simulasi[i]) / data_asli[i])\n",
    "        accuracy = 100 - (mape * 100)\n",
    "        accuracies.append(accuracy)\n",
    "    return accuracies\n",
    "\n",
    "accuracies = calculate_accuracy(data_asli, data_simulasi)\n",
    "\n",
    "for i, acc in enumerate(accuracies):\n",
    "    print(f\"{bulan[i]} :\\n \\tprediksi : {data_simulasi[i]}, \\n \\tdata asli : {data_asli[i]}, \\n \\tTingkat akurasi : {acc:.2f}%\")    \n",
    "\n"
   ]
  },
  {
   "cell_type": "code",
   "execution_count": 41,
   "metadata": {},
   "outputs": [
    {
     "name": "stdout",
     "output_type": "stream",
     "text": [
      "Mean Absolute Percentage Error (MAPE): 9.10%\n",
      "Persentase Akurasi: 90.90%\n"
     ]
    }
   ],
   "source": [
    "data_asli = permintaan_2017['total']\n",
    "data_simulasi = hasil\n",
    "\n",
    "# Fungsi untuk menghitung MAPE\n",
    "def calculate_mape(data_asli, data_simulasi):\n",
    "    n = len(data_asli)\n",
    "    mape = 0\n",
    "    for i in range(n):\n",
    "        mape += abs((data_asli[i] - data_simulasi[i]) / data_asli[i])\n",
    "    mape = (mape / n) * 100\n",
    "    return mape\n",
    "\n",
    "# Hitung MAPE\n",
    "mape = calculate_mape(data_asli, data_simulasi)\n",
    "print(f\"Mean Absolute Percentage Error (MAPE): {mape:.2f}%\")\n",
    "\n",
    "# Hitung akurasi\n",
    "akurasi = 100 - mape\n",
    "print(f\"Persentase Akurasi: {akurasi:.2f}%\")"
   ]
  }
 ],
 "metadata": {
  "kernelspec": {
   "display_name": "Python 3",
   "language": "python",
   "name": "python3"
  },
  "language_info": {
   "codemirror_mode": {
    "name": "ipython",
    "version": 3
   },
   "file_extension": ".py",
   "mimetype": "text/x-python",
   "name": "python",
   "nbconvert_exporter": "python",
   "pygments_lexer": "ipython3",
   "version": "3.12.0"
  }
 },
 "nbformat": 4,
 "nbformat_minor": 2
}
