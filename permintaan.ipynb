{
 "cells": [
  {
   "cell_type": "markdown",
   "metadata": {},
   "source": [
    "## Tubes Permodelan dan Simulasi\n",
    "\n",
    "#### Nama Kelompok :\n",
    "1. I Gede Arengga Nabakta   (1203220108)\n",
    "2. Mahendra Pratama H.P.    (1203222078)\n",
    "3. Daniswara Aryasatya F.F. (1203220066)\n",
    "\n",
    "### Simulasi Monte Carlo untuk Memprediksi Persediaan Darah pada tahun 2017"
   ]
  },
  {
   "cell_type": "markdown",
   "metadata": {},
   "source": [
    "Teknik pengolahan dengan simulasi  Monte Carlo \n",
    "untuk memprediksi persediaan  dilakukan dengan \n",
    "mempresentasikan masalah kedalam basis pengetahuan \n",
    "(knowledge base) dengan langkah langkah sebagai \n",
    "berikut: \n",
    "\n",
    "1. Membuat distribusi dari probabilitas;\n",
    "2. Menghitung distribusi kemungkinan komulatif;\n",
    "3. Membuat interval bilangan acak;\n",
    "4. Melakukan simulasi dengan bilangan acak;\n",
    "5. Menganalisa simulasi dari rangkaian percobaan."
   ]
  },
  {
   "cell_type": "markdown",
   "metadata": {},
   "source": [
    "### Hasil dan Pembahasan"
   ]
  },
  {
   "cell_type": "markdown",
   "metadata": {},
   "source": [
    "Data persediaan darah pada tahun 2016 akan digunakan untuk mempredksi jumlah persediaan darah di tahun 2017."
   ]
  },
  {
   "cell_type": "markdown",
   "metadata": {},
   "source": [
    "#### langkah pertama adalah install pint dan import modsim"
   ]
  },
  {
   "cell_type": "code",
   "execution_count": 1,
   "metadata": {},
   "outputs": [],
   "source": [
    "# install Pint if necessary\n",
    "\n",
    "try:\n",
    "    import pint\n",
    "except ImportError:\n",
    "    !pip install pint"
   ]
  },
  {
   "cell_type": "code",
   "execution_count": 2,
   "metadata": {},
   "outputs": [],
   "source": [
    "# download modsim.py if necessary\n",
    "\n",
    "from os.path import basename, exists\n",
    "\n",
    "def download(url):\n",
    "    filename = basename(url)\n",
    "    if not exists(filename):\n",
    "        from urllib.request import urlretrieve\n",
    "        local, _ = urlretrieve(url, filename)\n",
    "        print('Downloaded ' + local)\n",
    "    \n",
    "download('https://raw.githubusercontent.com/AllenDowney/' +\n",
    "         'ModSimPy/master/modsim.py')"
   ]
  },
  {
   "cell_type": "markdown",
   "metadata": {},
   "source": [
    "Berikut adalah Library yang digunakan.\n",
    "<ul>\n",
    "<li>pandas, digunakan untuk mencatat data menggunakan dataframe, pembaca dan penulisan data.\n",
    "<li>numpy, digunakan untuk Operasi matematis.\n",
    "<li>modsim, digunakan untuk permodelan dan simulasi.\n",
    "<li>sklearn.metrics adalah modul dalam Scikit-learn (scikit-learn atau sklearn) yang menyediakan berbagai alat untuk mengevaluasi kinerja model \n",
    "<ul>"
   ]
  },
  {
   "cell_type": "code",
   "execution_count": 3,
   "metadata": {},
   "outputs": [],
   "source": [
    "import pandas as pd\n",
    "import numpy as np\n",
    "from modsim import *\n",
    "from sklearn.metrics import mean_squared_error"
   ]
  },
  {
   "cell_type": "markdown",
   "metadata": {},
   "source": [
    "#### Langkah kedua adalah memasukan data tiap bulan <br>\n",
    "data disimpan menggunakan object `State`"
   ]
  },
  {
   "cell_type": "code",
   "execution_count": 4,
   "metadata": {},
   "outputs": [
    {
     "data": {
      "text/plain": [
       "januari      14251\n",
       "februari     12542\n",
       "maret        13852\n",
       "april        13414\n",
       "mei          12674\n",
       "juni         14903\n",
       "juli         12450\n",
       "agustus      13076\n",
       "september    12677\n",
       "oktober      13554\n",
       "november     12779\n",
       "desember     13722\n",
       "Name: state, dtype: int64"
      ]
     },
     "execution_count": 4,
     "metadata": {},
     "output_type": "execute_result"
    }
   ],
   "source": [
    "data_permintaan_2016 = State(januari=14251, februari=12542, maret=13852, april=13414, mei=12674, juni=14903, juli=12450, agustus=13076, september=12677, oktober=13554, november=12779, desember=13722)\n",
    "data_permintaan_2017 = State(januari=14881, februari=13431, maret=12285, april=14412, mei=13256, juni=10368, juli=13290, agustus=13399, september=12384, oktober=13248, november=12425, desember=13038)\n",
    "\n",
    "data_permintaan_2016"
   ]
  },
  {
   "cell_type": "markdown",
   "metadata": {},
   "source": [
    "#### Probabilitas tiap bulan \n",
    "Langkah pertama yaitu  menentukan distribusi probabilitas dari variabel menggunakan rumus : <br>\n",
    "\n",
    "`A = M / I`<br>\n",
    "\n",
    "A = Probabilitas,<br>\n",
    "M = Frekuensi,<br>\n",
    "I = Jumlah<br>\n"
   ]
  },
  {
   "cell_type": "code",
   "execution_count": 5,
   "metadata": {},
   "outputs": [
    {
     "data": {
      "text/plain": [
       "januari      0.089128\n",
       "februari     0.078439\n",
       "maret        0.086632\n",
       "april        0.083893\n",
       "mei          0.079265\n",
       "juni         0.093205\n",
       "juli         0.077864\n",
       "agustus      0.081779\n",
       "september    0.079284\n",
       "oktober      0.084769\n",
       "november     0.079922\n",
       "desember     0.085819\n",
       "Name: state, dtype: float64"
      ]
     },
     "execution_count": 5,
     "metadata": {},
     "output_type": "execute_result"
    }
   ],
   "source": [
    "total_per_bulan = data_permintaan_2016.sum()\n",
    "\n",
    "probalitas = data_permintaan_2016 / total_per_bulan\n",
    "\n",
    "probalitas"
   ]
  },
  {
   "cell_type": "code",
   "execution_count": 6,
   "metadata": {},
   "outputs": [
    {
     "data": {
      "text/plain": [
       "Text(0.5, 1.0, 'Probabilitas Ketersediaan Per Bulan 2016')"
      ]
     },
     "execution_count": 6,
     "metadata": {},
     "output_type": "execute_result"
    },
    {
     "data": {
      "image/png": "[encoded data removed]",
      "text/plain": [
       "<Figure size 450x300 with 1 Axes>"
      ]
     },
     "metadata": {},
     "output_type": "display_data"
    }
   ],
   "source": [
    "#membuat series dari data\n",
    "probabilitas_series = pd.Series(probalitas)\n",
    "\n",
    "#Plotting\n",
    "fig, ax = plt.subplots()\n",
    "probabilitas_series.plot(kind='bar', ax=ax)\n",
    "ax.set_xlabel('Bulan')\n",
    "ax.set_ylabel('Probabilitas')\n",
    "ax.set_title('Probabilitas Ketersediaan Per Bulan 2016')\n",
    "\n"
   ]
  },
  {
   "cell_type": "markdown",
   "metadata": {},
   "source": [
    "Menetapkan Distribusi Probabilitas Komulatif Nilai probabilitas komulatif didapatkan dari perhitungan  hasil    nilai  distribusi  probabilitas  dengan jumlah nilai distribusi probabilitas sebelumnya.<br>\n",
    "\n",
    "diberikan juga object system yang memiliki variable seperti \n",
    "<ul>\n",
    "    <li>bulan\n",
    "    <li>distribusi probabilitas\n",
    "    <li>distribusi nilai acak\n",
    "    <li>batas atas distribusi\n",
    "    <li>batas bawah distribusi\n",
    "    <li>pembangkit nilai acak\n",
    "    <li>hasil\n",
    "<ul>\n"
   ]
  },
  {
   "cell_type": "code",
   "execution_count": 7,
   "metadata": {},
   "outputs": [
    {
     "name": "stdout",
     "output_type": "stream",
     "text": [
      "Distribusi Probabilitas Kumulatif 2016: [0.08912779716562222, 0.16756726331194416, 0.2541996572729433, 0.33809273643789006, 0.4173577495090497, 0.5105632481519006, 0.5884273331081841, 0.6702065118140768, 0.7494902873153464, 0.8342589465520908, 0.9141806446770986, 1.0]\n"
     ]
    },
    {
     "data": {
      "image/png": "[encoded data removed]",
      "text/plain": [
       "<Figure size 450x300 with 1 Axes>"
      ]
     },
     "metadata": {},
     "output_type": "display_data"
    }
   ],
   "source": [
    "system = System(\n",
    "    bulan=['januari', 'februari', 'maret', 'april', 'mei', 'juni', 'juli', 'agustus', 'september', 'oktober', 'november', 'desember'],\n",
    "    distribusi_probabilitas_kumulatif=[0] * 12,\n",
    "    distribusi_100=[0] * 12,\n",
    "    batas_bawah=[0] * 12,\n",
    "    batas_atas=[0] * 12,\n",
    "    random_numbers=[] * 12,\n",
    "    hasil=[] * 12\n",
    ")\n",
    "\n",
    "distribusi_kumulatif = 0\n",
    "for i, month in enumerate(system.bulan):\n",
    "    distribusi_kumulatif += probabilitas_series[month]\n",
    "    system.distribusi_probabilitas_kumulatif[i] = distribusi_kumulatif\n",
    "\n",
    "print(\"Distribusi Probabilitas Kumulatif 2016:\", system.distribusi_probabilitas_kumulatif)\n",
    "\n",
    "# Membuat DataFrame untuk keperluan plotting\n",
    "df = pd.DataFrame({\n",
    "    'Bulan': system.bulan,\n",
    "    'Distribusi Probabilitas Kumulatif': system.distribusi_probabilitas_kumulatif\n",
    "})\n",
    "\n",
    "# Plotting\n",
    "fig, ax = plt.subplots()\n",
    "df.set_index('Bulan').plot(kind='bar', ax=ax)\n",
    "\n",
    "# Menambahkan label dan judul\n",
    "ax.set_xlabel('Bulan')\n",
    "ax.set_ylabel('Distribusi Probabilitas Kumulatif')\n",
    "ax.set_title('Distribusi Probabilitas Kumulatif Per Bulan 2016')\n",
    "\n",
    "# Menampilkan plot\n",
    "plt.show()"
   ]
  },
  {
   "cell_type": "markdown",
   "metadata": {},
   "source": [
    "#### Menetapkan Interval Angka Random (Angka Acak)"
   ]
  },
  {
   "cell_type": "code",
   "execution_count": 8,
   "metadata": {},
   "outputs": [
    {
     "name": "stdout",
     "output_type": "stream",
     "text": [
      "Bulan Januari: Batas Bawah = 0, Batas Atas = 8\n",
      "Bulan Februari: Batas Bawah = 9, Batas Atas = 16\n",
      "Bulan Maret: Batas Bawah = 17, Batas Atas = 25\n",
      "Bulan April: Batas Bawah = 26, Batas Atas = 33\n",
      "Bulan Mei: Batas Bawah = 34, Batas Atas = 41\n",
      "Bulan Juni: Batas Bawah = 42, Batas Atas = 51\n",
      "Bulan Juli: Batas Bawah = 52, Batas Atas = 58\n",
      "Bulan Agustus: Batas Bawah = 59, Batas Atas = 67\n",
      "Bulan September: Batas Bawah = 68, Batas Atas = 74\n",
      "Bulan Oktober: Batas Bawah = 75, Batas Atas = 83\n",
      "Bulan November: Batas Bawah = 84, Batas Atas = 91\n",
      "Bulan Desember: Batas Bawah = 92, Batas Atas = 100\n"
     ]
    }
   ],
   "source": [
    "# Mengonversi distribusi kumulatif ke rentang 0-100\n",
    "for i in range(12):\n",
    "    system.distribusi_100[i] = int(system.distribusi_probabilitas_kumulatif[i] * 100)\n",
    "\n",
    "# Menghitung batas bawah dan batas atas\n",
    "system.batas_bawah[0] = 0\n",
    "system.batas_atas[0] = system.distribusi_100[0]\n",
    "\n",
    "for i in range(1, 12):\n",
    "    system.batas_bawah[i] = system.distribusi_100[i - 1] + 1\n",
    "    system.batas_atas[i] = system.distribusi_100[i]\n",
    "\n",
    "# Menampilkan hasil\n",
    "for i, month in enumerate(system.bulan):\n",
    "    print(f\"Bulan {month.capitalize()}: Batas Bawah = {system.batas_bawah[i]}, Batas Atas = {system.batas_atas[i]}\")\n"
   ]
  },
  {
   "cell_type": "markdown",
   "metadata": {},
   "source": [
    "#### Membangkitkan Angka Acak\n",
    "\n",
    "Membangkitkan angka acak untuk data persediaan \n",
    "darah  tahun 2017 yang dibuat berdasarkan rumus :  \n",
    " `Ri = (dRi-1 + O) mod m`"
   ]
  },
  {
   "cell_type": "code",
   "execution_count": 9,
   "metadata": {},
   "outputs": [
    {
     "name": "stdout",
     "output_type": "stream",
     "text": [
      "Nilai-nilai acak 1 tahun: [6, 43, 30, 64, 36, 94, 87, 52, 75, 91, 72, 76]\n"
     ]
    }
   ],
   "source": [
    "def generate_random_numbers(system):\n",
    "    system.random_numbers = [system.seed]\n",
    "    for i in range(1, system.n):\n",
    "        new_random_number = (system.d * system.random_numbers[-1] + system.o) % system.m\n",
    "        system.random_numbers.append(new_random_number)\n",
    "    return system.random_numbers\n",
    "\n",
    "seeders = System(\n",
    "    seed=6,  # Nilai awal R\n",
    "    d=5,     # Konstanta d\n",
    "    o=13,    # Konstanta O\n",
    "    m=99,    # Konstanta m\n",
    "    n=12     # Jumlah nilai acak\n",
    ")\n",
    "\n",
    "random_numbers = generate_random_numbers(seeders)\n",
    "print(\"Nilai-nilai acak 1 tahun:\", random_numbers)"
   ]
  },
  {
   "cell_type": "code",
   "execution_count": 10,
   "metadata": {},
   "outputs": [
    {
     "name": "stdout",
     "output_type": "stream",
     "text": [
      "januari \t: 14251\n",
      "februari \t: 14903\n",
      "maret \t: 13414\n",
      "april \t: 13076\n",
      "mei \t: 12674\n",
      "juni \t: 13722\n",
      "juli \t: 12779\n",
      "agustus \t: 12450\n",
      "september \t: 13554\n",
      "oktober \t: 12779\n",
      "november \t: 12677\n",
      "desember \t: 13554\n"
     ]
    },
    {
     "name": "stderr",
     "output_type": "stream",
     "text": [
      "C:\\Users\\areng\\AppData\\Local\\Temp\\ipykernel_7596\\4079900892.py:7: FutureWarning: Series.__getitem__ treating keys as positions is deprecated. In a future version, integer keys will always be treated as labels (consistent with DataFrame behavior). To access a value by position, use `ser.iloc[pos]`\n",
      "  return data_permintaan_2016[count]\n"
     ]
    }
   ],
   "source": [
    "hasil = [None] * 12\n",
    "\n",
    "def calculate(number):\n",
    "    count = 0\n",
    "    while number > system.batas_atas[count]:\n",
    "        count +=1\n",
    "    return data_permintaan_2016[count]\n",
    "    \n",
    "for i in range(12):\n",
    "    hasil[i] = calculate(random_numbers[i])\n",
    "    print(system.bulan[i],\"\\t:\", hasil[i])\n",
    "    \n",
    "system.hasil = hasil\n",
    "    "
   ]
  },
  {
   "cell_type": "markdown",
   "metadata": {},
   "source": [
    "#### Perbandingan dan Akurasi\n",
    "\n",
    "mencari nilai akurasi dengan metode mape"
   ]
  },
  {
   "cell_type": "code",
   "execution_count": 11,
   "metadata": {},
   "outputs": [
    {
     "name": "stdout",
     "output_type": "stream",
     "text": [
      "januari :\n",
      " \tprediksi : 14251, \n",
      " \tdata asli : 14881, \n",
      " \tTingkat akurasi : 95.77%\n",
      "februari :\n",
      " \tprediksi : 14903, \n",
      " \tdata asli : 13431, \n",
      " \tTingkat akurasi : 89.04%\n",
      "maret :\n",
      " \tprediksi : 13414, \n",
      " \tdata asli : 12285, \n",
      " \tTingkat akurasi : 90.81%\n",
      "april :\n",
      " \tprediksi : 13076, \n",
      " \tdata asli : 14412, \n",
      " \tTingkat akurasi : 90.73%\n",
      "mei :\n",
      " \tprediksi : 12674, \n",
      " \tdata asli : 13256, \n",
      " \tTingkat akurasi : 95.61%\n",
      "juni :\n",
      " \tprediksi : 13722, \n",
      " \tdata asli : 10368, \n",
      " \tTingkat akurasi : 67.65%\n",
      "juli :\n",
      " \tprediksi : 12779, \n",
      " \tdata asli : 13290, \n",
      " \tTingkat akurasi : 96.16%\n",
      "agustus :\n",
      " \tprediksi : 12450, \n",
      " \tdata asli : 13399, \n",
      " \tTingkat akurasi : 92.92%\n",
      "september :\n",
      " \tprediksi : 13554, \n",
      " \tdata asli : 12384, \n",
      " \tTingkat akurasi : 90.55%\n",
      "oktober :\n",
      " \tprediksi : 12779, \n",
      " \tdata asli : 13248, \n",
      " \tTingkat akurasi : 96.46%\n",
      "november :\n",
      " \tprediksi : 12677, \n",
      " \tdata asli : 12425, \n",
      " \tTingkat akurasi : 97.97%\n",
      "desember :\n",
      " \tprediksi : 13554, \n",
      " \tdata asli : 13038, \n",
      " \tTingkat akurasi : 96.04%\n"
     ]
    },
    {
     "name": "stderr",
     "output_type": "stream",
     "text": [
      "C:\\Users\\areng\\AppData\\Local\\Temp\\ipykernel_7596\\4076183850.py:8: FutureWarning: Series.__getitem__ treating keys as positions is deprecated. In a future version, integer keys will always be treated as labels (consistent with DataFrame behavior). To access a value by position, use `ser.iloc[pos]`\n",
      "  mape = abs((data_asli[i] - data_simulasi[i]) / data_asli[i])\n",
      "C:\\Users\\areng\\AppData\\Local\\Temp\\ipykernel_7596\\4076183850.py:16: FutureWarning: Series.__getitem__ treating keys as positions is deprecated. In a future version, integer keys will always be treated as labels (consistent with DataFrame behavior). To access a value by position, use `ser.iloc[pos]`\n",
      "  print(f\"{system.bulan[i]} :\\n \\tprediksi : {data_simulasi[i]}, \\n \\tdata asli : {data_asli[i]}, \\n \\tTingkat akurasi : {acc:.2f}%\")\n"
     ]
    }
   ],
   "source": [
    "data_asli = data_permintaan_2017\n",
    "data_simulasi = system.hasil\n",
    "\n",
    "# Fungsi untuk menghitung akurasi untuk setiap data\n",
    "def calculate_accuracy(data_asli, data_simulasi):\n",
    "    accuracies = []\n",
    "    for i in range(len(data_asli)):\n",
    "        mape = abs((data_asli[i] - data_simulasi[i]) / data_asli[i])\n",
    "        accuracy = 100 - (mape * 100)\n",
    "        accuracies.append(accuracy)\n",
    "    return accuracies\n",
    "\n",
    "accuracies = calculate_accuracy(data_asli, data_simulasi)\n",
    "\n",
    "for i, acc in enumerate(accuracies):\n",
    "    print(f\"{system.bulan[i]} :\\n \\tprediksi : {data_simulasi[i]}, \\n \\tdata asli : {data_asli[i]}, \\n \\tTingkat akurasi : {acc:.2f}%\")    \n",
    "\n",
    "\n"
   ]
  },
  {
   "cell_type": "markdown",
   "metadata": {},
   "source": [
    "akurasi keseluruhan"
   ]
  },
  {
   "cell_type": "code",
   "execution_count": 12,
   "metadata": {},
   "outputs": [
    {
     "name": "stdout",
     "output_type": "stream",
     "text": [
      "Mean Absolute Percentage Error (MAPE): 8.36%\n",
      "Persentase Akurasi: 91.64%\n"
     ]
    },
    {
     "name": "stderr",
     "output_type": "stream",
     "text": [
      "C:\\Users\\areng\\AppData\\Local\\Temp\\ipykernel_7596\\2503875818.py:9: FutureWarning: Series.__getitem__ treating keys as positions is deprecated. In a future version, integer keys will always be treated as labels (consistent with DataFrame behavior). To access a value by position, use `ser.iloc[pos]`\n",
      "  mape += abs((data_asli[i] - data_simulasi[i]) / data_asli[i])\n"
     ]
    }
   ],
   "source": [
    "data_asli = data_permintaan_2017\n",
    "data_simulasi_ketersediaan = system.hasil\n",
    "\n",
    "# Fungsi untuk menghitung MAPE\n",
    "def calculate_mape(data_asli, data_simulasi):\n",
    "    n = len(data_asli)\n",
    "    mape = 0\n",
    "    for i in range(n):\n",
    "        mape += abs((data_asli[i] - data_simulasi[i]) / data_asli[i])\n",
    "    mape = (mape / n) * 100\n",
    "    return mape\n",
    "\n",
    "# Hitung MAPE\n",
    "mape = calculate_mape(data_asli, data_simulasi)\n",
    "print(f\"Mean Absolute Percentage Error (MAPE): {mape:.2f}%\")\n",
    "\n",
    "# Hitung akurasi\n",
    "akurasi = 100 - mape\n",
    "print(f\"Persentase Akurasi: {akurasi:.2f}%\")"
   ]
  },
  {
   "cell_type": "markdown",
   "metadata": {},
   "source": [
    "### Berikut adalah Garfik Final"
   ]
  },
  {
   "cell_type": "code",
   "execution_count": 13,
   "metadata": {},
   "outputs": [
    {
     "data": {
      "image/png": "[encoded data removed]",
      "text/plain": [
       "<Figure size 900x450 with 1 Axes>"
      ]
     },
     "metadata": {},
     "output_type": "display_data"
    }
   ],
   "source": [
    "# Create a TimeSeries for original and simulated data\n",
    "original_series = TimeSeries(data_asli, index=system.bulan)\n",
    "simulated_series = TimeSeries(data_simulasi, index=system.bulan)\n",
    "\n",
    "# Plot the data\n",
    "plt.figure(figsize=(12, 6))\n",
    "plt.plot(original_series, label='Data Asli', marker='o')\n",
    "plt.plot(simulated_series, label='Data Simulasi', marker='x')\n",
    "plt.xlabel('Bulan')\n",
    "plt.ylabel('Nilai')\n",
    "plt.title('Perbandingan Data Asli dan Data Simulasi')\n",
    "plt.legend()\n",
    "plt.grid(True)\n",
    "plt.show()"
   ]
  },
  {
   "cell_type": "code",
   "execution_count": 14,
   "metadata": {},
   "outputs": [
    {
     "ename": "SyntaxError",
     "evalue": "invalid syntax (4101716387.py, line 52)",
     "output_type": "error",
     "traceback": [
      "\u001b[1;36m  Cell \u001b[1;32mIn[14], line 52\u001b[1;36m\u001b[0m\n\u001b[1;33m    plt.show()s\u001b[0m\n\u001b[1;37m              ^\u001b[0m\n\u001b[1;31mSyntaxError\u001b[0m\u001b[1;31m:\u001b[0m invalid syntax\n"
     ]
    }
   ],
   "source": [
    "# Membuat angka system.bulan untuk sumbu x\n",
    "x = np.arange(len(system.bulan))\n",
    "\n",
    "# Membuat prediksi untuk 6 system.bulan ke depan\n",
    "prediksi = system.bulan + ['Januari+1', 'Februari+1', 'Maret+1', 'April+1', 'Mei+1', 'Juni+1']\n",
    "x_prediksi = np.arange(len(prediksi))\n",
    "\n",
    "# Membuat grafik\n",
    "plt.figure(figsize=(12, 6))\n",
    "\n",
    "# Grafik kelinieran (linear)\n",
    "coef_linear = np.polyfit(x, system.hasil, 1)\n",
    "poly1d_linear = np.poly1d(coef_linear)\n",
    "linear_pred = poly1d_linear(x)\n",
    "\n",
    "# Menghitung error linear\n",
    "mse_linear = mean_squared_error(system.hasil, linear_pred)\n",
    "rmse_linear = np.sqrt(mse_linear)\n",
    "\n",
    "# Menghitung RMSE dalam persen\n",
    "average_hasil = np.mean(system.hasil)\n",
    "rmse_linear_percent = (rmse_linear / average_hasil) * 100\n",
    "\n",
    "plt.plot(prediksi, poly1d_linear(x_prediksi), label=f'Linear Fit (RMSE: {rmse_linear:.2f}, {rmse_linear_percent:.2f}%)', color='orange')\n",
    "\n",
    "# Grafik parabola (quadratic)\n",
    "coef_quad = np.polyfit(x, system.hasil, 2)\n",
    "poly1d_quad = np.poly1d(coef_quad)\n",
    "quad_pred = poly1d_quad(x)\n",
    "\n",
    "# Menghitung error quadratic\n",
    "mse_quad = mean_squared_error(system.hasil, quad_pred)\n",
    "rmse_quad = np.sqrt(mse_quad)\n",
    "\n",
    "# Menghitung RMSE dalam persen\n",
    "rmse_quad_percent = (rmse_quad / average_hasil) * 100\n",
    "\n",
    "plt.plot(prediksi, poly1d_quad(x_prediksi), label=f'Quadratic Fit (RMSE: {rmse_quad:.2f}, {rmse_quad_percent:.2f}%)', color='green')\n",
    "\n",
    "# Grafik data asli\n",
    "plt.plot(system.bulan, system.hasil, 'o-', label='Data Asli', color='blue')\n",
    "\n",
    "# Menambahkan judul dan label\n",
    "plt.title('Grafik Kelinieran dan Parabola permintaan darah di kota Bandung')\n",
    "plt.xlabel('bulan')\n",
    "plt.ylabel('hasil')\n",
    "plt.xticks(rotation=45)\n",
    "plt.legend()\n",
    "\n",
    "# Menampilkan grafik\n",
    "plt.tight_layout()\n",
    "plt.show()s\n",
    "\n",
    "\n",
    "print(f\"Kesimpulan akhir :\\n\\tMean Eror Quad: {rmse_quad_percent:.2f}%\")\n",
    "print(f\"\\tMean Eror Linear: {rmse_linear_percent:.2f}%\")\n",
    "print(f\"\\tAkurasi total: {akurasi:.2f}%\")"
   ]
  }
 ],
 "metadata": {
  "kernelspec": {
   "display_name": "Python 3",
   "language": "python",
   "name": "python3"
  },
  "language_info": {
   "codemirror_mode": {
    "name": "ipython",
    "version": 3
   },
   "file_extension": ".py",
   "mimetype": "text/x-python",
   "name": "python",
   "nbconvert_exporter": "python",
   "pygments_lexer": "ipython3",
   "version": "3.12.0"
  }
 },
 "nbformat": 4,
 "nbformat_minor": 2
}
