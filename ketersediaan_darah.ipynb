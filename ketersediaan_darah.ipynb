{
 "cells": [
  {
   "cell_type": "markdown",
   "metadata": {},
   "source": [
    "## Tubes Permodelan dan Simulasi\n",
    "\n",
    "#### Nama Kelompok :\n",
    "1. I Gede Arengga Nabakta   (1203220108)\n",
    "2. Mahendra Pratama H.P.    (1203222078)\n",
    "3. Daniswara Aryasatya F.F. (1203220066)\n",
    "\n",
    "### Simulasi Monte Carlo untuk Memprediksi Ketersediaan Darah pada tahun 2017"
   ]
  },
  {
   "cell_type": "markdown",
   "metadata": {},
   "source": [
    "Teknik pengolahan dengan simulasi  Monte Carlo \n",
    "untuk memprediksi persediaan  dilakukan dengan \n",
    "mempresentasikan masalah kedalam basis pengetahuan \n",
    "(knowledge base) dengan langkah langkah sebagai \n",
    "berikut: \n",
    "\n",
    "1. Membuat distribusi dari probabilitas;\n",
    "2. Menghitung distribusi kemungkinan komulatif;\n",
    "3. Membuat interval bilangan acak;\n",
    "4. Melakukan simulasi dengan bilangan acak;\n",
    "5. Menganalisa simulasi dari rangkaian percobaan."
   ]
  },
  {
   "cell_type": "markdown",
   "metadata": {},
   "source": [
    "### Hasil dan Pembahasan"
   ]
  },
  {
   "cell_type": "markdown",
   "metadata": {},
   "source": [
    "Data ketersediaan darah pada tahun 2016 akan digunakan untuk mempredksi jumlah ketersediaandarah di tahun \n",
    "2017."
   ]
  },
  {
   "cell_type": "code",
   "execution_count": 45,
   "metadata": {},
   "outputs": [],
   "source": [
    "import pandas as pd\n",
    "import random\n",
    "ketersediaan_2016 = pd.read_csv(\"./data/ketersediaan2016.csv\")\n",
    "ketersediaan_2017 = pd.read_csv(\"./data/ketersediaan2017.csv\")"
   ]
  },
  {
   "cell_type": "code",
   "execution_count": 46,
   "metadata": {},
   "outputs": [
    {
     "name": "stdout",
     "output_type": "stream",
     "text": [
      "        bulan  total\n",
      "0     JANUARI   9574\n",
      "1    FEBRUARI  12064\n",
      "2       MARET  11927\n",
      "3       APRIL  10933\n",
      "4         MEI  12611\n",
      "5        JUNI   6822\n",
      "6        JULI  10826\n",
      "7     AGUSTUS  13214\n",
      "8   SEPTEMBER   9896\n",
      "9     OKTOBER  11405\n",
      "10   NOVEMBER  11686\n",
      "11   DESEMBER   9058\n"
     ]
    }
   ],
   "source": [
    "data_ketersediaan_2016 = pd.read_csv(\"./data/ketersediaan2016.csv\", usecols=['bulan', 'total'])\n",
    "print(data_ketersediaan_2016)"
   ]
  },
  {
   "cell_type": "markdown",
   "metadata": {},
   "source": [
    "#### Distribusi Probabilitas Kumulatif \n",
    "Langkah pertama yaitu  menentukan distribusi probabilitas dari variabel menggunakan rumus : \n",
    "\n",
    "`A = M / I`\n",
    "\n",
    "A = Probabilitas,\n",
    "M = Frekuensi,\n",
    "I = Jumlah\n"
   ]
  },
  {
   "cell_type": "code",
   "execution_count": 47,
   "metadata": {},
   "outputs": [
    {
     "name": "stdout",
     "output_type": "stream",
     "text": [
      "0     0.073637\n",
      "1     0.092789\n",
      "2     0.091735\n",
      "3     0.084090\n",
      "4     0.096996\n",
      "5     0.052470\n",
      "6     0.083267\n",
      "7     0.101634\n",
      "8     0.076114\n",
      "9     0.087720\n",
      "10    0.089881\n",
      "11    0.069668\n",
      "Name: total, dtype: float64\n"
     ]
    }
   ],
   "source": [
    "total_nilai_ketersediaan_2016 = data_ketersediaan_2016['total'].sum()\n",
    "\n",
    "probabilitas_2016 = data_ketersediaan_2016['total'] / total_nilai_ketersediaan_2016\n",
    "\n",
    "print(probabilitas_2016)\n"
   ]
  },
  {
   "cell_type": "markdown",
   "metadata": {},
   "source": [
    "Menetapkan Distribusi Probabilitas Komulatif Nilai probabilitas komulatif didapatkan dari perhitungan  hasil    nilai  distribusi  probabilitas  dengan jumlah nilai distribusi probabilitas sebelumnya."
   ]
  },
  {
   "cell_type": "code",
   "execution_count": 48,
   "metadata": {},
   "outputs": [
    {
     "name": "stdout",
     "output_type": "stream",
     "text": [
      "Distribusi Probabilitas 2016: [0.07363709081959144, 0.16642567068668473, 0.25816053408811224, 0.34225018459266554, 0.4392459389613586, 0.4917164041348757, 0.5749830790056608, 0.6766167240954959, 0.752730433177455, 0.8404504061038641, 0.9303316514890475, 1.0]\n"
     ]
    }
   ],
   "source": [
    "distribusi_probabilitas_2016 = [0] * 12\n",
    "\n",
    "distribusi_2016 = 0\n",
    "\n",
    "for i in range(12):\n",
    "    distribusi_2016 += probabilitas_2016[i]\n",
    "    distribusi_probabilitas_2016[i] = distribusi_2016\n",
    "\n",
    "print(\"Distribusi Probabilitas 2016:\", distribusi_probabilitas_2016)"
   ]
  },
  {
   "cell_type": "markdown",
   "metadata": {},
   "source": [
    "Nilai bisa di cek dengan code dibawah"
   ]
  },
  {
   "cell_type": "code",
   "execution_count": 49,
   "metadata": {},
   "outputs": [
    {
     "name": "stdout",
     "output_type": "stream",
     "text": [
      "0.07363709081959144\n",
      "0.16642567068668473\n",
      "0.25816053408811224\n",
      "0.34225018459266554\n",
      "0.4392459389613586\n",
      "0.4917164041348757\n",
      "0.5749830790056608\n",
      "0.6766167240954959\n",
      "0.752730433177455\n",
      "0.8404504061038641\n",
      "0.9303316514890475\n",
      "1.0\n"
     ]
    }
   ],
   "source": [
    "for i in range(12):\n",
    "    print(distribusi_probabilitas_2016[i])"
   ]
  },
  {
   "cell_type": "markdown",
   "metadata": {},
   "source": [
    "Menetapkan Interval Angka Random (Angka Acak)"
   ]
  },
  {
   "cell_type": "code",
   "execution_count": 50,
   "metadata": {},
   "outputs": [
    {
     "name": "stdout",
     "output_type": "stream",
     "text": [
      "Bulan 1: Batas Bawah = 0, Batas Atas = 7\n",
      "Bulan 2: Batas Bawah = 8, Batas Atas = 16\n",
      "Bulan 3: Batas Bawah = 17, Batas Atas = 25\n",
      "Bulan 4: Batas Bawah = 26, Batas Atas = 34\n",
      "Bulan 5: Batas Bawah = 35, Batas Atas = 43\n",
      "Bulan 6: Batas Bawah = 44, Batas Atas = 49\n",
      "Bulan 7: Batas Bawah = 50, Batas Atas = 57\n",
      "Bulan 8: Batas Bawah = 58, Batas Atas = 67\n",
      "Bulan 9: Batas Bawah = 68, Batas Atas = 75\n",
      "Bulan 10: Batas Bawah = 76, Batas Atas = 84\n",
      "Bulan 11: Batas Bawah = 85, Batas Atas = 93\n",
      "Bulan 12: Batas Bawah = 94, Batas Atas = 100\n"
     ]
    }
   ],
   "source": [
    "interval_2016 = [0] * 12\n",
    "batas_bawah = [0] * 12\n",
    "batas_atas = [0] * 12\n",
    "\n",
    "# Mengonversi distribusi kumulatif ke rentang 0-100\n",
    "distribusi_100 = [int(x * 100) for x in distribusi_probabilitas_2016]\n",
    "\n",
    "batas_bawah[0] = 0\n",
    "batas_atas[0] = distribusi_100[0]\n",
    "\n",
    "for i in range(1, 12):\n",
    "    batas_bawah[i] = distribusi_100[i - 1] + 1\n",
    "    batas_atas[i] = distribusi_100[i]\n",
    "\n",
    "for i in range(12):\n",
    "    print(f\"Bulan {i+1}: Batas Bawah = {batas_bawah[i]}, Batas Atas = {batas_atas[i]}\")\n"
   ]
  },
  {
   "cell_type": "markdown",
   "metadata": {},
   "source": [
    "#### Membangkitkan Angka Acak\n",
    "\n",
    "Membangkitkan angka acak untuk data persediaan \n",
    "darah  tahun 2017 yang dibuat berdasarkan rumus :  \n",
    " `Ri = (dRi-1 + O) mod m`"
   ]
  },
  {
   "cell_type": "code",
   "execution_count": 51,
   "metadata": {},
   "outputs": [
    {
     "name": "stdout",
     "output_type": "stream",
     "text": [
      "Nilai-nilai acak 1 tahun: [6, 43, 30, 64, 36, 94, 87, 52, 75, 91, 72, 76]\n"
     ]
    }
   ],
   "source": [
    "def generate_random_numbers(seed, d, o, m, n):\n",
    "    random_numbers = [seed]\n",
    "    for i in range(1, n):\n",
    "        new_random_number = (d * random_numbers[-1] + o) % m\n",
    "        random_numbers.append(new_random_number)\n",
    "    return random_numbers\n",
    "\n",
    "seed_value = 6  # Nilai awal R\n",
    "d_value = 5     # Konstanta d\n",
    "o_value = 13     # Konstanta O\n",
    "m_value = 99   # Konstanta m\n",
    "jumlah_nilai_acak = 12\n",
    "\n",
    "random_numbers = generate_random_numbers(seed_value, d_value, o_value, m_value, jumlah_nilai_acak)\n",
    "print(\"Nilai-nilai acak 1 tahun:\", random_numbers)"
   ]
  },
  {
   "cell_type": "markdown",
   "metadata": {},
   "source": [
    "## Hasil Percobaan"
   ]
  },
  {
   "cell_type": "code",
   "execution_count": 52,
   "metadata": {},
   "outputs": [
    {
     "name": "stdout",
     "output_type": "stream",
     "text": [
      "Januari \t: 9574\n",
      "Februari \t: 12611\n",
      "Maret \t: 10933\n",
      "April \t: 13214\n",
      "Mei \t: 12611\n",
      "Juni \t: 9058\n",
      "Juli \t: 11686\n",
      "Agustus \t: 10826\n",
      "September \t: 9896\n",
      "Oktober \t: 11686\n",
      "November \t: 9896\n",
      "Desember \t: 11405\n"
     ]
    }
   ],
   "source": [
    "bulan = [\"Januari\", \"Februari\", \"Maret\", \"April\", \"Mei\", \"Juni\", \"Juli\", \"Agustus\", \"September\", \"Oktober\", \"November\", \"Desember\"]\n",
    "\n",
    "def calculate(number):\n",
    "    \n",
    "    count = 0\n",
    "    while number > batas_atas[count]:\n",
    "        count += 1\n",
    "    return data_ketersediaan_2016['total'][count]\n",
    "\n",
    "hasil = [None] * 24\n",
    "\n",
    "for i in range(12):\n",
    "    hasil[i] = calculate(random_numbers[i])\n",
    "    print(bulan[i],\"\\t:\", hasil[i])"
   ]
  },
  {
   "cell_type": "markdown",
   "metadata": {},
   "source": [
    "Mari kita bandingkan dengan data pada tahun 2017."
   ]
  },
  {
   "cell_type": "code",
   "execution_count": 53,
   "metadata": {},
   "outputs": [
    {
     "name": "stdout",
     "output_type": "stream",
     "text": [
      "0     10304\n",
      "1     11287\n",
      "2     11562\n",
      "3     10321\n",
      "4     10067\n",
      "5      6050\n",
      "6     12143\n",
      "7     11471\n",
      "8      9763\n",
      "9     11493\n",
      "10     9107\n",
      "11     9444\n",
      "Name: total, dtype: int64\n"
     ]
    }
   ],
   "source": [
    "ketersediaan_2017 = pd.read_csv(\"./data/ketersediaan2017.csv\")\n",
    "print(ketersediaan_2017['total'])"
   ]
  },
  {
   "cell_type": "code",
   "execution_count": 54,
   "metadata": {},
   "outputs": [
    {
     "name": "stdout",
     "output_type": "stream",
     "text": [
      "Januari :\n",
      " \tprediksi : 9574, \n",
      " \tdata asli : 10304, \n",
      " \tTingkat akurasi : 92.92%\n",
      "Februari :\n",
      " \tprediksi : 12611, \n",
      " \tdata asli : 11287, \n",
      " \tTingkat akurasi : 88.27%\n",
      "Maret :\n",
      " \tprediksi : 10933, \n",
      " \tdata asli : 11562, \n",
      " \tTingkat akurasi : 94.56%\n",
      "April :\n",
      " \tprediksi : 13214, \n",
      " \tdata asli : 10321, \n",
      " \tTingkat akurasi : 71.97%\n",
      "Mei :\n",
      " \tprediksi : 12611, \n",
      " \tdata asli : 10067, \n",
      " \tTingkat akurasi : 74.73%\n",
      "Juni :\n",
      " \tprediksi : 9058, \n",
      " \tdata asli : 6050, \n",
      " \tTingkat akurasi : 50.28%\n",
      "Juli :\n",
      " \tprediksi : 11686, \n",
      " \tdata asli : 12143, \n",
      " \tTingkat akurasi : 96.24%\n",
      "Agustus :\n",
      " \tprediksi : 10826, \n",
      " \tdata asli : 11471, \n",
      " \tTingkat akurasi : 94.38%\n",
      "September :\n",
      " \tprediksi : 9896, \n",
      " \tdata asli : 9763, \n",
      " \tTingkat akurasi : 98.64%\n",
      "Oktober :\n",
      " \tprediksi : 11686, \n",
      " \tdata asli : 11493, \n",
      " \tTingkat akurasi : 98.32%\n",
      "November :\n",
      " \tprediksi : 9896, \n",
      " \tdata asli : 9107, \n",
      " \tTingkat akurasi : 91.34%\n",
      "Desember :\n",
      " \tprediksi : 11405, \n",
      " \tdata asli : 9444, \n",
      " \tTingkat akurasi : 79.24%\n"
     ]
    }
   ],
   "source": [
    "data_asli = ketersediaan_2017['total']\n",
    "data_simulasi = hasil\n",
    "\n",
    "# Fungsi untuk menghitung akurasi untuk setiap data\n",
    "def calculate_accuracy(data_asli, data_simulasi):\n",
    "    accuracies = []\n",
    "    for i in range(len(data_asli)):\n",
    "        mape = abs((data_asli[i] - data_simulasi[i]) / data_asli[i])\n",
    "        accuracy = 100 - (mape * 100)\n",
    "        accuracies.append(accuracy)\n",
    "    return accuracies\n",
    "\n",
    "accuracies = calculate_accuracy(data_asli, data_simulasi)\n",
    "\n",
    "for i, acc in enumerate(accuracies):\n",
    "    print(f\"{bulan[i]} :\\n \\tprediksi : {data_simulasi[i]}, \\n \\tdata asli : {data_asli[i]}, \\n \\tTingkat akurasi : {acc:.2f}%\")    \n",
    "\n"
   ]
  },
  {
   "cell_type": "code",
   "execution_count": 55,
   "metadata": {},
   "outputs": [
    {
     "name": "stdout",
     "output_type": "stream",
     "text": [
      "Mean Absolute Percentage Error (MAPE): 14.09%\n",
      "Persentase Akurasi: 85.91%\n"
     ]
    }
   ],
   "source": [
    "\n",
    "data_asli = ketersediaan_2017['total']\n",
    "data_simulasi_ketersediaan = hasil\n",
    "\n",
    "# Fungsi untuk menghitung MAPE\n",
    "def calculate_mape(data_asli, data_simulasi):\n",
    "    n = len(data_asli)\n",
    "    mape = 0\n",
    "    for i in range(n):\n",
    "        mape += abs((data_asli[i] - data_simulasi[i]) / data_asli[i])\n",
    "    mape = (mape / n) * 100\n",
    "    return mape\n",
    "\n",
    "# Hitung MAPE\n",
    "mape = calculate_mape(data_asli, data_simulasi)\n",
    "print(f\"Mean Absolute Percentage Error (MAPE): {mape:.2f}%\")\n",
    "\n",
    "# Hitung akurasi\n",
    "akurasi = 100 - mape\n",
    "print(f\"Persentase Akurasi: {akurasi:.2f}%\")"
   ]
  }
 ],
 "metadata": {
  "kernelspec": {
   "display_name": "Python 3",
   "language": "python",
   "name": "python3"
  },
  "language_info": {
   "codemirror_mode": {
    "name": "ipython",
    "version": 3
   },
   "file_extension": ".py",
   "mimetype": "text/x-python",
   "name": "python",
   "nbconvert_exporter": "python",
   "pygments_lexer": "ipython3",
   "version": "3.12.0"
  }
 },
 "nbformat": 4,
 "nbformat_minor": 2
}
